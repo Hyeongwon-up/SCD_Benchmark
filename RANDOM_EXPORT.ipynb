{
 "cells": [
  {
   "cell_type": "code",
   "execution_count": 8,
   "metadata": {},
   "outputs": [],
   "source": [
    "import csv\n",
    "import random"
   ]
  },
  {
   "cell_type": "code",
   "execution_count": 2,
   "metadata": {},
   "outputs": [],
   "source": [
    "with open('/Users/ihyeong-won/Desktop/DISTINCT_TABLE.csv', newline='') as f:\n",
    "    reader = csv.reader(f)\n",
    "    data = [tuple(row) for row in reader]\n",
    "    "
   ]
  },
  {
   "cell_type": "code",
   "execution_count": 4,
   "metadata": {},
   "outputs": [],
   "source": [
    "lists = []"
   ]
  },
  {
   "cell_type": "code",
   "execution_count": 5,
   "metadata": {},
   "outputs": [],
   "source": [
    "for item in data:\n",
    "    lists.append(item)"
   ]
  },
  {
   "cell_type": "code",
   "execution_count": 11,
   "metadata": {},
   "outputs": [],
   "source": [
    "del lists[0]"
   ]
  },
  {
   "cell_type": "code",
   "execution_count": 13,
   "metadata": {},
   "outputs": [],
   "source": [
    "TestList = random.sample(lists,100)"
   ]
  },
  {
   "cell_type": "code",
   "execution_count": 14,
   "metadata": {},
   "outputs": [
    {
     "data": {
      "text/plain": [
       "[('MATH-889_2a41e40:src/main/java/org/apache/commons/math3/geometry/euclidean/oned/Interval.java',),\n",
       " ('LANG-1189_e474263:src/test/java/org/apache/commons/lang3/mutable/MutableByteTest.java',),\n",
       " ('MATH-854_6f31656:src/main/java/org/apache/commons/math3/analysis/interpolation/FieldHermiteInterpolator.java',),\n",
       " ('LANG-1261_42f2058:src/test/java/org/apache/commons/lang3/SystemUtilsTest.java',),\n",
       " ('MATH-425_07f1663:src/test/java/org/apache/commons/math/optimization/general/GaussNewtonOptimizerTest.java',),\n",
       " ('MATH-1349_3ab3653:src/test/java/org/apache/commons/math4/random/RandomDataGeneratorTest.java',),\n",
       " ('MATH-880_b25f448:src/main/java/org/apache/commons/math3/geometry/partitioning/BSPTree.java',),\n",
       " ('MATH-322_f7c0b40:src/main/java/org/apache/commons/math/ode/events/EventState.java',),\n",
       " ('MATH-1124_9867d9f:src/main/java/org/apache/commons/math4/stat/inference/MannWhitneyUTest.java',),\n",
       " ('MATH-1207_86eb3a2:src/main/java/org/apache/commons/math4/genetics/CycleCrossover.java',),\n",
       " ('LANG-1128_4a882e7:src/main/java/org/apache/commons/lang3/time/DateUtils.java',),\n",
       " ('MATH-282_439cb99:src/main/java/org/apache/commons/math/distribution/GammaDistributionImpl.java',),\n",
       " ('LANG-1270_5acf310:src/test/java/org/apache/commons/lang3/StringUtilsEmptyBlankTest.java',),\n",
       " ('COLLECTIONS-251_5a2fc90:src/test/org/apache/commons/collections/buffer/TestTransformedBuffer.java',),\n",
       " ('MATH-1158_e366894:src/test/java/org/apache/commons/math4/analysis/interpolation/TricubicInterpolatingFunctionTest.java',),\n",
       " ('LANG-1129_740c0f9:src/test/java/org/apache/commons/lang3/mutable/MutableBooleanTest.java',),\n",
       " ('LANG-281_1d5c03f:src/java/org/apache/commons/lang/time/DurationFormatUtils.java',),\n",
       " ('MATH-1284_7a59c0a:src/test/java/org/apache/commons/math4/geometry/spherical/twod/SubCircleTest.java',),\n",
       " ('MATH-1158_e366894:src/test/java/org/apache/commons/math4/distribution/LevyDistributionTest.java',),\n",
       " ('MATH-599_c005c8d:src/test/java/org/apache/commons/math/analysis/solvers/BaseSecantSolverTest.java',),\n",
       " ('LANG-921_aadbea7:src/test/java/org/apache/commons/lang3/BooleanUtilsTest.java',),\n",
       " ('COLLECTIONS-294_0725e47:src/java/org/apache/commons/collections/map/CaseInsensitiveMap.java',),\n",
       " ('LANG-1127_3dbf1ee:src/test/java/org/apache/commons/lang3/StringUtilsTest.java',),\n",
       " ('IVY-685_9177316:src/java/org/apache/ivy/ant/IvyInstall.java',),\n",
       " ('IVY-591_87bc48e:src/java/org/apache/ivy/core/resolve/ResolveEngineSettings.java',),\n",
       " ('LANG-645_14a0cc2:src/main/java/org/apache/commons/lang3/time/FastDateFormat.java',),\n",
       " ('MATH-599_a7c7172:src/main/java/org/apache/commons/math/analysis/solvers/UnivariateRealSolverUtils.java',),\n",
       " ('MATH-287_dd63599:src/main/java/org/apache/commons/math/stat/descriptive/AbstractUnivariateStatistic.java',),\n",
       " ('MATH-1535_67aea22:src/test/java/org/apache/commons/math4/stat/inference/KolmogorovSmirnovTestTest.java',),\n",
       " ('IVY-636_f5c047c:src/java/org/apache/ivy/plugins/resolver/BasicResolver.java',),\n",
       " ('MATH-657_97b440f:src/test/java/org/apache/commons/math/complex/ComplexTest.java',),\n",
       " ('MATH-361_92a9c20:src/main/java/org/apache/commons/math/geometry/Vector3DFormat.java',),\n",
       " ('MATH-1124_78ebedb:src/main/java/org/apache/commons/math4/distribution/FDistribution.java',),\n",
       " ('LANG-1525_ba607f5:src/test/java/org/apache/commons/lang3/reflect/FieldUtilsTest.java',),\n",
       " ('MATH-1284_7a59c0a:src/test/java/org/apache/commons/math4/geometry/euclidean/twod/LineTest.java',),\n",
       " ('MATH-954_9cec1ea:src/main/java/org/apache/commons/math3/util/FastMath.java',),\n",
       " ('MATH-484_73a8e5d:src/test/java/org/apache/commons/math/ode/nonstiff/DormandPrince853StepInterpolatorTest.java',),\n",
       " ('MATH-692_a21d5ae:src/test/java/org/apache/commons/math/random/RandomDataTest.java',),\n",
       " ('IVY-628_8563862:src/java/org/apache/ivy/core/resolve/DownloadOptions.java',),\n",
       " ('MATH-1124_78ebedb:src/test/java/org/apache/commons/math4/distribution/BetaDistributionTest.java',),\n",
       " ('MATH-1355_350c477:src/test/java/org/apache/commons/math4/distribution/HypergeometricDistributionTest.java',),\n",
       " ('MATH-749_e8d0d4c:src/test/java/org/apache/commons/math3/geometry/euclidean/twod/hull/AklToussaintHeuristicTest.java',),\n",
       " ('MATH-1292_c4c288a:src/test/java/org/apache/commons/math4/stat/descriptive/rank/PercentileTest.java',),\n",
       " ('MATH-1054_6527a80:src/main/java/org/apache/commons/math3/fraction/ProperFractionFormat.java',),\n",
       " ('LANG-1127_3dbf1ee:src/test/java/org/apache/commons/lang3/ClassPathUtilsTest.java',),\n",
       " ('MATH-459_b6f9254:src/test/java/org/apache/commons/math/linear/ArrayRealVectorTest.java',),\n",
       " ('LANG-1127_eb5f7ed:src/test/java/org/apache/commons/lang3/time/FastDateFormatTest.java',),\n",
       " ('COLLECTIONS-256_3af55cd:src/test/org/apache/commons/collections/list/TestTransformedList.java',),\n",
       " ('COLLECTIONS-537_e6c2735:src/main/java/org/apache/commons/collections4/functors/AllPredicate.java',),\n",
       " ('MATH-227_dbd8ffb:src/java/org/apache/commons/math/stat/descriptive/summary/Sum.java',),\n",
       " ('MATH-212_97a3fa7:src/java/org/apache/commons/math/stat/descriptive/StorelessUnivariateStatistic.java',),\n",
       " ('MATH-385_0f004b2:src/test/java/org/apache/commons/math/distribution/ChiSquareDistributionTest.java',),\n",
       " ('IVY-659_6e92130:src/java/org/apache/ivy/plugins/namespace/Namespace.java',),\n",
       " ('MATH-227_dbd8ffb:src/java/org/apache/commons/math/distribution/FDistributionImpl.java',),\n",
       " ('MATH-689_3a7d733:src/main/java/org/apache/commons/math/stat/regression/SimpleRegression.java',),\n",
       " ('MATH-423_96c2ce3:src/test/java/org/apache/commons/math/distribution/ExponentialDistributionTest.java',),\n",
       " ('MATH-361_92a9c20:src/main/java/org/apache/commons/math/linear/MatrixVisitorException.java',),\n",
       " ('LANG-1252_dad86bc:src/main/java/org/apache/commons/lang3/builder/ToStringExclude.java',),\n",
       " ('MATH-689_3a7d733:src/main/java/org/apache/commons/math/linear/MatrixUtils.java',),\n",
       " ('MATH-1327_6ddf476:src/main/java/org/apache/commons/math4/util/MathArrays.java',),\n",
       " ('MATH-387_730e170:src/main/java/org/apache/commons/math/optimization/VectorialPointValuePair.java',),\n",
       " ('MATH-1342_7a8dc00:src/test/java/org/apache/commons/math4/analysis/interpolation/PiecewiseBicubicSplineInterpolatorTest.java',),\n",
       " ('MATH-451_92938b6:src/test/java/org/apache/commons/math/analysis/solvers/MullerSolverTest.java',),\n",
       " ('MATH-349_2e3e082:src/main/java/org/apache/commons/math/distribution/GammaDistribution.java',),\n",
       " ('LANG-1023_a3b74d9:src/main/java/org/apache/commons/lang3/builder/HashCodeBuilder.java',),\n",
       " ('MATH-1349_3ab3653:src/main/java/org/apache/commons/math4/distribution/ZipfDistribution.java',),\n",
       " ('MATH-1207_86eb3a2:src/main/java/org/apache/commons/math4/ml/distance/EuclideanDistance.java',),\n",
       " ('MATH-195_634e51b:src/main/java/org/apache/commons/math/optimization/general/NonLinearConjugateGradientOptimizer.java',),\n",
       " ('COLLECTIONS-232_33703f1:src/test/org/apache/commons/collections/TestCollectionUtils.java',),\n",
       " ('MATH-423_96c2ce3:src/test/java/org/apache/commons/math/stat/descriptive/rank/MinTest.java',),\n",
       " ('MATH-607_54b0cce:src/main/java/org/apache/commons/math/stat/regression/MillerUpdatingRegression.java',),\n",
       " ('MATH-195_634e51b:src/test/java/org/apache/commons/math/analysis/MonitoredFunction.java',),\n",
       " ('MATH-361_92a9c20:src/main/java/org/apache/commons/math/ConvergenceException.java',),\n",
       " ('MATH-853_afcfbf5:src/test/java/org/apache/commons/math4/transform/FastSineTransformerTest.java',),\n",
       " ('IVY-544_5cae129:src/java/org/apache/ivy/util/StringUtils.java',),\n",
       " ('LANG-1337_21bab1d:src/test/java/org/apache/commons/lang3/time/DateUtilsTest.java',),\n",
       " ('COLLECTIONS-580_b2b8f4a:src/main/java/org/apache/commons/collections4/multimap/AbstractListValuedMap.java',),\n",
       " ('MATH-207_e082a03:src/java/org/apache/commons/math/genetics/ChromosomePair.java',),\n",
       " ('LANG-1127_3dbf1ee:src/main/java/org/apache/commons/lang3/concurrent/AtomicSafeInitializer.java',),\n",
       " ('MATH-707_a04a6c1:src/main/java/org/apache/commons/math/analysis/integration/UnivariateRealIntegratorImpl.java',),\n",
       " ('MATH-1047_93b51cc:src/test/java/org/apache/commons/math3/util/ArithmeticUtilsTest.java',),\n",
       " ('MATH-1356_0880a21:src/main/java/org/apache/commons/math4/distribution/LevyDistribution.java',),\n",
       " ('COLLECTIONS-251_5a2fc90:src/test/org/apache/commons/collections/bidimap/TestUnmodifiableOrderedBidiMap.java',),\n",
       " ('IVY-910_a23a1a6:src/java/org/apache/ivy/ant/IvyAntVariableContainer.java',),\n",
       " ('MATH-294_2c8a114:src/main/java/org/apache/commons/math/random/RandomDataImpl.java',),\n",
       " ('MATH-839_3fd9cf1:src/main/java/org/apache/commons/math4/distribution/AbstractIntegerDistribution.java',),\n",
       " ('MATH-195_634e51b:src/test/java/org/apache/commons/math/optimization/fitting/ParametricGaussianFunctionTest.java',),\n",
       " ('MATH-1124_9867d9f:src/main/java/org/apache/commons/math4/random/ValueServer.java',),\n",
       " ('COLLECTIONS-323_cb19f2d:src/java/org/apache/commons/collections/map/IdentityMap.java',),\n",
       " ('COLLECTIONS-570_68bbd2c:src/main/java/org/apache/commons/collections4/functors/ChainedTransformer.java',),\n",
       " ('MATH-699_f880c83:src/main/java/org/apache/commons/math/distribution/ExponentialDistribution.java',),\n",
       " ('LANG-607_1ced894:src/main/java/org/apache/commons/lang3/StringUtils.java',),\n",
       " ('COLLECTIONS-495_72784c4:src/main/java/org/apache/commons/collections4/trie/UnmodifiableTrie.java',),\n",
       " ('MATH-1154_a3fdeb4:src/main/java/org/apache/commons/math3/stat/inference/BinomialTest.java',),\n",
       " ('MATH-388_92f005a:src/main/java/org/apache/commons/math/ode/nonstiff/HighamHall54Integrator.java',),\n",
       " ('MATH-677_f4f2b63:src/main/java/org/apache/commons/math/transform/FastCosineTransformer.java',),\n",
       " ('IVY-779_030f1a0:src/java/org/apache/ivy/plugins/resolver/RepositoryResolver.java',),\n",
       " ('MATH-1349_3ab3653:src/main/java/org/apache/commons/math4/distribution/LevyDistribution.java',),\n",
       " ('LANG-667_f4f07d5:src/main/java/org/apache/commons/lang3/ObjectUtils.java',),\n",
       " ('MATH-375_0ec92a0:src/main/java/org/apache/commons/math/optimization/SimpleVectorialPointChecker.java',)]"
      ]
     },
     "execution_count": 14,
     "metadata": {},
     "output_type": "execute_result"
    }
   ],
   "source": [
    "TestList"
   ]
  },
  {
   "cell_type": "code",
   "execution_count": 17,
   "metadata": {},
   "outputs": [
    {
     "ename": "IsADirectoryError",
     "evalue": "[Errno 21] Is a directory: '/Users/ihyeong-won/Desktop'",
     "output_type": "error",
     "traceback": [
      "\u001b[0;31m---------------------------------------------------------------------------\u001b[0m",
      "\u001b[0;31mIsADirectoryError\u001b[0m                         Traceback (most recent call last)",
      "\u001b[0;32m<ipython-input-17-aad11835d087>\u001b[0m in \u001b[0;36m<module>\u001b[0;34m\u001b[0m\n\u001b[0;32m----> 1\u001b[0;31m \u001b[0mcsvfile\u001b[0m \u001b[0;34m=\u001b[0m \u001b[0mopen\u001b[0m\u001b[0;34m(\u001b[0m\u001b[0;34m\"/Users/ihyeong-won/Desktop\"\u001b[0m\u001b[0;34m,\u001b[0m \u001b[0;34m'w'\u001b[0m\u001b[0;34m,\u001b[0m \u001b[0mnewline\u001b[0m\u001b[0;34m=\u001b[0m\u001b[0;34m\"\"\u001b[0m\u001b[0;34m)\u001b[0m\u001b[0;34m\u001b[0m\u001b[0;34m\u001b[0m\u001b[0m\n\u001b[0m\u001b[1;32m      2\u001b[0m \u001b[0mcsvwriter\u001b[0m \u001b[0;34m=\u001b[0m \u001b[0mcsv\u001b[0m\u001b[0;34m.\u001b[0m\u001b[0mwriter\u001b[0m\u001b[0;34m(\u001b[0m\u001b[0mcsvfile\u001b[0m\u001b[0;34m)\u001b[0m\u001b[0;34m\u001b[0m\u001b[0;34m\u001b[0m\u001b[0m\n\u001b[1;32m      3\u001b[0m \u001b[0;32mfor\u001b[0m \u001b[0mrow\u001b[0m \u001b[0;32min\u001b[0m \u001b[0mTestList\u001b[0m\u001b[0;34m:\u001b[0m\u001b[0;34m\u001b[0m\u001b[0;34m\u001b[0m\u001b[0m\n\u001b[1;32m      4\u001b[0m     \u001b[0mcsvwriter\u001b[0m\u001b[0;34m.\u001b[0m\u001b[0mwriterow\u001b[0m\u001b[0;34m(\u001b[0m\u001b[0mrow\u001b[0m\u001b[0;34m)\u001b[0m\u001b[0;34m\u001b[0m\u001b[0;34m\u001b[0m\u001b[0m\n\u001b[1;32m      5\u001b[0m \u001b[0mcsvfile\u001b[0m\u001b[0;34m.\u001b[0m\u001b[0mclose\u001b[0m\u001b[0;34m(\u001b[0m\u001b[0;34m)\u001b[0m\u001b[0;34m\u001b[0m\u001b[0;34m\u001b[0m\u001b[0m\n",
      "\u001b[0;31mIsADirectoryError\u001b[0m: [Errno 21] Is a directory: '/Users/ihyeong-won/Desktop'"
     ]
    }
   ],
   "source": [
    "csvfile = open(\"/Users/ihyeong-won/Desktop/\", 'w', newline=\"\")\n",
    "csvwriter = csv.writer(csvfile)\n",
    "for row in TestList:\n",
    "    csvwriter.writerow(row)\n",
    "csvfile.close()"
   ]
  },
  {
   "cell_type": "code",
   "execution_count": null,
   "metadata": {},
   "outputs": [],
   "source": []
  }
 ],
 "metadata": {
  "kernelspec": {
   "display_name": "Python 3",
   "language": "python",
   "name": "python3"
  },
  "language_info": {
   "codemirror_mode": {
    "name": "ipython",
    "version": 3
   },
   "file_extension": ".py",
   "mimetype": "text/x-python",
   "name": "python",
   "nbconvert_exporter": "python",
   "pygments_lexer": "ipython3",
   "version": "3.7.6"
  }
 },
 "nbformat": 4,
 "nbformat_minor": 4
}
